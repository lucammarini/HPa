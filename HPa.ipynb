{
  "nbformat": 4,
  "nbformat_minor": 0,
  "metadata": {
    "colab": {
      "provenance": [],
      "authorship_tag": "ABX9TyNbCoLWnLZ1OsxNv06wkmfJ",
      "include_colab_link": true
    },
    "kernelspec": {
      "name": "python3",
      "display_name": "Python 3"
    },
    "language_info": {
      "name": "python"
    }
  },
  "cells": [
    {
      "cell_type": "markdown",
      "metadata": {
        "id": "view-in-github",
        "colab_type": "text"
      },
      "source": [
        "<a href=\"https://colab.research.google.com/github/lucammarini/HPa/blob/develop/HPa.ipynb\" target=\"_parent\"><img src=\"https://colab.research.google.com/assets/colab-badge.svg\" alt=\"Open In Colab\"/></a>"
      ]
    },
    {
      "cell_type": "markdown",
      "source": [
        "# **HPa** \n",
        "---\n",
        "☣\n",
        "**Simulador de partículas com features de:**\n",
        "* Atração;\n",
        "* Repulsão;\n",
        "* Limites de parede;"
      ],
      "metadata": {
        "id": "3zliJ6K62FeK"
      }
    },
    {
      "cell_type": "markdown",
      "source": [
        "## IMPORTS"
      ],
      "metadata": {
        "id": "IrOc3TnX2IGh"
      }
    },
    {
      "cell_type": "code",
      "metadata": {
        "id": "w-TjjFVYOkOs"
      },
      "source": [
        "#### IMPORT DE BIBLIOTECAS\n",
        "from matplotlib import rc\n",
        "rc('animation', html='jshtml')"
      ],
      "execution_count": 66,
      "outputs": []
    },
    {
      "cell_type": "code",
      "metadata": {
        "id": "javW1ZBiNZMh"
      },
      "source": [
        "from math import *\n",
        "import numpy as np\n",
        "import matplotlib.pyplot as plt\n",
        "from mpl_toolkits import mplot3d\n",
        "import matplotlib.animation as animation\n",
        "import pandas as pd"
      ],
      "execution_count": 67,
      "outputs": []
    },
    {
      "cell_type": "markdown",
      "source": [
        "## FUNÇÕES"
      ],
      "metadata": {
        "id": "p1BkmEnz2WKp"
      }
    },
    {
      "cell_type": "code",
      "source": [
        "def frame(w):\n",
        "    \"\"\"Define a localização do frame atual e plota o gráfico\"\"\"\n",
        "    ax.clear()\n",
        "    global N,df\n",
        "    \n",
        "    df = position(N,df)\n",
        "\n",
        "    x = df['x_i+1']\n",
        "    y = df['y_i+1']\n",
        "    carga = df['carga']\n",
        "    carga_valor = df['carga_valor']\n",
        "\n",
        "    plt.title(\"Particle Motion\")\n",
        "    ax.set_xlabel('X(t)')\n",
        "    ax.set_xlim(-500.0,500.0)\n",
        "    ax.set_ylabel('Y(t)')\n",
        "    ax.set_ylim(-500.0,500.0)\n",
        "   \n",
        "    colors = {'positivo':'red', 'negativo':'blue'}\n",
        "    plot=ax.scatter(x, y, c=df['carga'].map(colors))\n",
        "    return plot"
      ],
      "metadata": {
        "id": "JatBVkPj2WaA"
      },
      "execution_count": 68,
      "outputs": []
    },
    {
      "cell_type": "code",
      "source": [
        "def position(N,df0):\n",
        "    \"\"\"Pega a posição atual das partículas e retorna a próxima posição\"\"\"\n",
        "    global Ga,Gr\n",
        "\n",
        "    for partic in range(0,len(df.index)):\n",
        "      # force reset\n",
        "      Fax = 0\n",
        "      Frx = 0\n",
        "      Fay = 0\n",
        "      Fry = 0\n",
        "\n",
        "      # ATRAÇÃO EIXO X\n",
        "      for interacao in range(0,len(df.index)):\n",
        "        r = (df['x_i'][partic] - df['x_i'][interacao])\n",
        "        Q1_carga = 1*(df['carga'][partic]    == 'positivo') + (-1)*(df['carga'][partic]    == 'negativo')\n",
        "        Q2_carga = 1*(df['carga'][interacao] == 'positivo') + (-1)*(df['carga'][interacao] == 'negativo')\n",
        "        Q1 = Q1_carga * df['carga_valor'][partic]\n",
        "        Q2 = Q2_carga * df['carga_valor'][interacao]\n",
        "\n",
        "        # calculo de força\n",
        "        if r == 0:\n",
        "          pass\n",
        "        else:\n",
        "          Fax = Fax + Ga*Q1*Q2/r^2\n",
        "\n",
        "\n",
        "      # ATRAÇÃO EIXO Y\n",
        "      for interacao in range(0,len(df.index)):\n",
        "        r = (df['y_i'][partic] - df['y_i'][interacao])\n",
        "        Q1_carga = 1*(df['carga'][partic]    == 'positivo') + (-1)*(df['carga'][partic]    == 'negativo')\n",
        "        Q2_carga = 1*(df['carga'][interacao] == 'positivo') + (-1)*(df['carga'][interacao] == 'negativo')\n",
        "        Q1 = Q1_carga * df['carga_valor'][partic]\n",
        "        Q2 = Q2_carga * df['carga_valor'][interacao]\n",
        "\n",
        "        # calculo de força\n",
        "        if r == 0:\n",
        "          pass\n",
        "        else:\n",
        "          Fay = Fay + Ga*Q1*Q2/r^2\n",
        "\n",
        "      # REPULSÃO EIXO X\n",
        "      for interacao in range(0,len(df.index)):\n",
        "        r = (df['x_i'][partic] - df['x_i'][interacao])\n",
        "        Q1_carga = 1*(df['carga'][partic]    == 'positivo') + (-1)*(df['carga'][partic]    == 'negativo')\n",
        "        Q2_carga = 1*(df['carga'][interacao] == 'positivo') + (-1)*(df['carga'][interacao] == 'negativo')\n",
        "        Q1 = Q1_carga * df['carga_valor'][partic]\n",
        "        Q2 = Q2_carga * df['carga_valor'][interacao]\n",
        "\n",
        "        # calculo de força\n",
        "        if r == 0:\n",
        "          pass\n",
        "        else:\n",
        "          Frx = Frx + Gr*Q1*Q2/r^2\n",
        "\n",
        "      # REPULSÃO EIXO Y\n",
        "      for interacao in range(0,len(df.index)):\n",
        "        r = (df['y_i'][partic] - df['y_i'][interacao])\n",
        "        Q1_carga = 1*(df['carga'][partic]    == 'positivo') + (-1)*(df['carga'][partic]    == 'negativo')\n",
        "        Q2_carga = 1*(df['carga'][interacao] == 'positivo') + (-1)*(df['carga'][interacao] == 'negativo')\n",
        "        Q1 = Q1_carga * df['carga_valor'][partic]\n",
        "        Q2 = Q2_carga * df['carga_valor'][interacao]\n",
        "\n",
        "        # calculo de força\n",
        "        if r == 0:\n",
        "          pass\n",
        "        else:\n",
        "          Fry = Fry + Gr*Q1*Q2/r^2\n",
        "\n",
        "      Fx = Fax - Frx\n",
        "      Fy = Fay - Fry\n",
        "      df.at[2,'Fx'] = Fx\n",
        "      df.at[2,'Fy'] = Fy\n",
        "\n",
        "    # POSIÇÃO PRÓXIMA\n",
        "    df['x_i+1'] = df['x_i'] + 5 * df['Fx'] \n",
        "    df['y_i+1'] = df['y_i'] + 5 * df['Fy']\n",
        "\n",
        "    df['x_i'] = df['x_i+1']\n",
        "    df['y_i'] = df['y_i+1']\n",
        "\n",
        "    return df"
      ],
      "metadata": {
        "id": "nO0wutihhw8x"
      },
      "execution_count": 69,
      "outputs": []
    },
    {
      "cell_type": "markdown",
      "source": [
        "## LOOP PRINCIPAL"
      ],
      "metadata": {
        "id": "xEVNHK5m2Wrx"
      }
    },
    {
      "cell_type": "markdown",
      "source": [
        "### CONDIÇÕES DE CONTORNO INICIAIS"
      ],
      "metadata": {
        "id": "63wD1zaAAtYG"
      }
    },
    {
      "cell_type": "markdown",
      "source": [
        "* N: número de partículas\n",
        "* x: posição no eixo x\n",
        "* y: posição no eixo y\n"
      ],
      "metadata": {
        "id": "IhDf-er-BAse"
      }
    },
    {
      "cell_type": "code",
      "source": [
        "# NÚMERO DE PARTICULAS NEGATIVAS\n",
        "Nn = 10\n",
        "# NÚMERO DE PARTÍCULAS POSITIVAS\n",
        "Np = 10\n",
        "\n",
        "# MULTIPLICADORES DE ALEATORIEDADE\n",
        "rand1 = 100\n",
        "rand2 = 1\n",
        "\n",
        "# COEFICIENTE DE ATRAÇÃO\n",
        "Ga = 50  # [N.m²/C²]\n",
        "# COEFICIENTE DE REPULSÃO\n",
        "Gr = 80  # [N.m²/C²]\n",
        "# CARGA POSITIVA\n",
        "Qp = 1  # [C]\n",
        "# CARGA NEGATIVA\n",
        "Qn = 2  # [C]\n"
      ],
      "metadata": {
        "id": "1_S8DTSboYSt"
      },
      "execution_count": 70,
      "outputs": []
    },
    {
      "cell_type": "code",
      "metadata": {
        "id": "-bHuJFcHNn_d",
        "colab": {
          "base_uri": "https://localhost:8080/",
          "height": 378
        },
        "outputId": "cd3a7f43-9e08-4526-8a46-02bb397145b4"
      },
      "source": [
        "fig = plt.figure(figsize=(8,6))\n",
        "ax = plt.axes()\n",
        "\n",
        "# NUMERO DE PARTICULAS TOTAIS\n",
        "N = Np + Nn\n",
        "\n",
        "# POSIÇÕES INICIAIS:\n",
        "x0_list = [float(rand1*np.random.random(rand2)) for x in range(0,N)]\n",
        "y0_list = [float(rand1*np.random.random(rand2)) for x in range(0,N)]\n",
        "pn_list = ['positivo' for x in range(0,Np)] + ['negativo' for x in range(0,Nn)]\n",
        "carga_v_list = [Qp for x in range(0,Np)] + [Qn for x in range(0,Nn)]\n",
        "Fx_list = [0 for x in range(0,N)]\n",
        "Fy_list = [0 for x in range(0,N)]\n",
        "\n",
        "df = pd.DataFrame({'x_i':x0_list, \n",
        "                   'y_i':y0_list, \n",
        "                   'carga':pn_list, \n",
        "                   'carga_valor':carga_v_list,\n",
        "                   'Fx':Fx_list,\n",
        "                   'Fy':Fy_list}) \n"
      ],
      "execution_count": 71,
      "outputs": [
        {
          "output_type": "display_data",
          "data": {
            "text/plain": [
              "<Figure size 576x432 with 1 Axes>"
            ],
            "image/png": "[encoded data removed]"
          },
          "metadata": {
            "needs_background": "light"
          }
        }
      ]
    },
    {
      "cell_type": "markdown",
      "source": [
        "### ANIMAÇÃO EM TRANSIENTE"
      ],
      "metadata": {
        "id": "zGtFEoCkAzF0"
      }
    },
    {
      "cell_type": "code",
      "metadata": {
        "id": "1Syf4XIKN1El"
      },
      "source": [
        "anim = animation.FuncAnimation(fig, frame, frames=25, blit=False, repeat=True)"
      ],
      "execution_count": 72,
      "outputs": []
    },
    {
      "cell_type": "code",
      "metadata": {
        "id": "rd6h4K9vOtZk",
        "colab": {
          "base_uri": "https://localhost:8080/",
          "height": 417
        },
        "outputId": "f668a13b-8185-4bd7-d956-f595a3cc7148"
      },
      "source": [
        "anim"
      ],
      "execution_count": 73,
      "outputs": [
        {
          "output_type": "error",
          "ename": "TypeError",
          "evalue": "ignored",
          "traceback": [
            "\u001b[0;31m---------------------------------------------------------------------------\u001b[0m",
            "\u001b[0;31mTypeError\u001b[0m                                 Traceback (most recent call last)",
            "\u001b[0;32m/usr/local/lib/python3.8/dist-packages/IPython/core/formatters.py\u001b[0m in \u001b[0;36m__call__\u001b[0;34m(self, obj)\u001b[0m\n\u001b[1;32m    343\u001b[0m             \u001b[0mmethod\u001b[0m \u001b[0;34m=\u001b[0m \u001b[0mget_real_method\u001b[0m\u001b[0;34m(\u001b[0m\u001b[0mobj\u001b[0m\u001b[0;34m,\u001b[0m \u001b[0mself\u001b[0m\u001b[0;34m.\u001b[0m\u001b[0mprint_method\u001b[0m\u001b[0;34m)\u001b[0m\u001b[0;34m\u001b[0m\u001b[0;34m\u001b[0m\u001b[0m\n\u001b[1;32m    344\u001b[0m             \u001b[0;32mif\u001b[0m \u001b[0mmethod\u001b[0m \u001b[0;32mis\u001b[0m \u001b[0;32mnot\u001b[0m \u001b[0;32mNone\u001b[0m\u001b[0;34m:\u001b[0m\u001b[0;34m\u001b[0m\u001b[0;34m\u001b[0m\u001b[0m\n\u001b[0;32m--> 345\u001b[0;31m                 \u001b[0;32mreturn\u001b[0m \u001b[0mmethod\u001b[0m\u001b[0;34m(\u001b[0m\u001b[0;34m)\u001b[0m\u001b[0;34m\u001b[0m\u001b[0;34m\u001b[0m\u001b[0m\n\u001b[0m\u001b[1;32m    346\u001b[0m             \u001b[0;32mreturn\u001b[0m \u001b[0;32mNone\u001b[0m\u001b[0;34m\u001b[0m\u001b[0;34m\u001b[0m\u001b[0m\n\u001b[1;32m    347\u001b[0m         \u001b[0;32melse\u001b[0m\u001b[0;34m:\u001b[0m\u001b[0;34m\u001b[0m\u001b[0;34m\u001b[0m\u001b[0m\n",
            "\u001b[0;32m/usr/local/lib/python3.8/dist-packages/matplotlib/animation.py\u001b[0m in \u001b[0;36m_repr_html_\u001b[0;34m(self)\u001b[0m\n\u001b[1;32m   1391\u001b[0m             \u001b[0;32mreturn\u001b[0m \u001b[0mself\u001b[0m\u001b[0;34m.\u001b[0m\u001b[0mto_html5_video\u001b[0m\u001b[0;34m(\u001b[0m\u001b[0;34m)\u001b[0m\u001b[0;34m\u001b[0m\u001b[0;34m\u001b[0m\u001b[0m\n\u001b[1;32m   1392\u001b[0m         \u001b[0;32melif\u001b[0m \u001b[0mfmt\u001b[0m \u001b[0;34m==\u001b[0m \u001b[0;34m'jshtml'\u001b[0m\u001b[0;34m:\u001b[0m\u001b[0;34m\u001b[0m\u001b[0;34m\u001b[0m\u001b[0m\n\u001b[0;32m-> 1393\u001b[0;31m             \u001b[0;32mreturn\u001b[0m \u001b[0mself\u001b[0m\u001b[0;34m.\u001b[0m\u001b[0mto_jshtml\u001b[0m\u001b[0;34m(\u001b[0m\u001b[0;34m)\u001b[0m\u001b[0;34m\u001b[0m\u001b[0;34m\u001b[0m\u001b[0m\n\u001b[0m\u001b[1;32m   1394\u001b[0m \u001b[0;34m\u001b[0m\u001b[0m\n\u001b[1;32m   1395\u001b[0m \u001b[0;34m\u001b[0m\u001b[0m\n",
            "\u001b[0;32m/usr/local/lib/python3.8/dist-packages/matplotlib/animation.py\u001b[0m in \u001b[0;36mto_jshtml\u001b[0;34m(self, fps, embed_frames, default_mode)\u001b[0m\n\u001b[1;32m   1380\u001b[0m                                     \u001b[0membed_frames\u001b[0m\u001b[0;34m=\u001b[0m\u001b[0membed_frames\u001b[0m\u001b[0;34m,\u001b[0m\u001b[0;34m\u001b[0m\u001b[0;34m\u001b[0m\u001b[0m\n\u001b[1;32m   1381\u001b[0m                                     default_mode=default_mode)\n\u001b[0;32m-> 1382\u001b[0;31m                 \u001b[0mself\u001b[0m\u001b[0;34m.\u001b[0m\u001b[0msave\u001b[0m\u001b[0;34m(\u001b[0m\u001b[0mstr\u001b[0m\u001b[0;34m(\u001b[0m\u001b[0mpath\u001b[0m\u001b[0;34m)\u001b[0m\u001b[0;34m,\u001b[0m \u001b[0mwriter\u001b[0m\u001b[0;34m=\u001b[0m\u001b[0mwriter\u001b[0m\u001b[0;34m)\u001b[0m\u001b[0;34m\u001b[0m\u001b[0;34m\u001b[0m\u001b[0m\n\u001b[0m\u001b[1;32m   1383\u001b[0m                 \u001b[0mself\u001b[0m\u001b[0;34m.\u001b[0m\u001b[0m_html_representation\u001b[0m \u001b[0;34m=\u001b[0m \u001b[0mpath\u001b[0m\u001b[0;34m.\u001b[0m\u001b[0mread_text\u001b[0m\u001b[0;34m(\u001b[0m\u001b[0;34m)\u001b[0m\u001b[0;34m\u001b[0m\u001b[0;34m\u001b[0m\u001b[0m\n\u001b[1;32m   1384\u001b[0m \u001b[0;34m\u001b[0m\u001b[0m\n",
            "\u001b[0;32m/usr/local/lib/python3.8/dist-packages/matplotlib/animation.py\u001b[0m in \u001b[0;36msave\u001b[0;34m(self, filename, writer, fps, dpi, codec, bitrate, extra_args, metadata, extra_anim, savefig_kwargs, progress_callback)\u001b[0m\n\u001b[1;32m   1133\u001b[0m                 \u001b[0;32mfor\u001b[0m \u001b[0manim\u001b[0m \u001b[0;32min\u001b[0m \u001b[0mall_anim\u001b[0m\u001b[0;34m:\u001b[0m\u001b[0;34m\u001b[0m\u001b[0;34m\u001b[0m\u001b[0m\n\u001b[1;32m   1134\u001b[0m                     \u001b[0;31m# Clear the initial frame\u001b[0m\u001b[0;34m\u001b[0m\u001b[0;34m\u001b[0m\u001b[0;34m\u001b[0m\u001b[0m\n\u001b[0;32m-> 1135\u001b[0;31m                     \u001b[0manim\u001b[0m\u001b[0;34m.\u001b[0m\u001b[0m_init_draw\u001b[0m\u001b[0;34m(\u001b[0m\u001b[0;34m)\u001b[0m\u001b[0;34m\u001b[0m\u001b[0;34m\u001b[0m\u001b[0m\n\u001b[0m\u001b[1;32m   1136\u001b[0m                 \u001b[0mframe_number\u001b[0m \u001b[0;34m=\u001b[0m \u001b[0;36m0\u001b[0m\u001b[0;34m\u001b[0m\u001b[0;34m\u001b[0m\u001b[0m\n\u001b[1;32m   1137\u001b[0m                 \u001b[0;31m# TODO: Currently only FuncAnimation has a save_count\u001b[0m\u001b[0;34m\u001b[0m\u001b[0;34m\u001b[0m\u001b[0;34m\u001b[0m\u001b[0m\n",
            "\u001b[0;32m/usr/local/lib/python3.8/dist-packages/matplotlib/animation.py\u001b[0m in \u001b[0;36m_init_draw\u001b[0;34m(self)\u001b[0m\n\u001b[1;32m   1741\u001b[0m         \u001b[0;31m# artists.\u001b[0m\u001b[0;34m\u001b[0m\u001b[0;34m\u001b[0m\u001b[0;34m\u001b[0m\u001b[0m\n\u001b[1;32m   1742\u001b[0m         \u001b[0;32mif\u001b[0m \u001b[0mself\u001b[0m\u001b[0;34m.\u001b[0m\u001b[0m_init_func\u001b[0m \u001b[0;32mis\u001b[0m \u001b[0;32mNone\u001b[0m\u001b[0;34m:\u001b[0m\u001b[0;34m\u001b[0m\u001b[0;34m\u001b[0m\u001b[0m\n\u001b[0;32m-> 1743\u001b[0;31m             \u001b[0mself\u001b[0m\u001b[0;34m.\u001b[0m\u001b[0m_draw_frame\u001b[0m\u001b[0;34m(\u001b[0m\u001b[0mnext\u001b[0m\u001b[0;34m(\u001b[0m\u001b[0mself\u001b[0m\u001b[0;34m.\u001b[0m\u001b[0mnew_frame_seq\u001b[0m\u001b[0;34m(\u001b[0m\u001b[0;34m)\u001b[0m\u001b[0;34m)\u001b[0m\u001b[0;34m)\u001b[0m\u001b[0;34m\u001b[0m\u001b[0;34m\u001b[0m\u001b[0m\n\u001b[0m\u001b[1;32m   1744\u001b[0m \u001b[0;34m\u001b[0m\u001b[0m\n\u001b[1;32m   1745\u001b[0m         \u001b[0;32melse\u001b[0m\u001b[0;34m:\u001b[0m\u001b[0;34m\u001b[0m\u001b[0;34m\u001b[0m\u001b[0m\n",
            "\u001b[0;32m/usr/local/lib/python3.8/dist-packages/matplotlib/animation.py\u001b[0m in \u001b[0;36m_draw_frame\u001b[0;34m(self, framedata)\u001b[0m\n\u001b[1;32m   1764\u001b[0m         \u001b[0;31m# Call the func with framedata and args. If blitting is desired,\u001b[0m\u001b[0;34m\u001b[0m\u001b[0;34m\u001b[0m\u001b[0;34m\u001b[0m\u001b[0m\n\u001b[1;32m   1765\u001b[0m         \u001b[0;31m# func needs to return a sequence of any artists that were modified.\u001b[0m\u001b[0;34m\u001b[0m\u001b[0;34m\u001b[0m\u001b[0;34m\u001b[0m\u001b[0m\n\u001b[0;32m-> 1766\u001b[0;31m         \u001b[0mself\u001b[0m\u001b[0;34m.\u001b[0m\u001b[0m_drawn_artists\u001b[0m \u001b[0;34m=\u001b[0m \u001b[0mself\u001b[0m\u001b[0;34m.\u001b[0m\u001b[0m_func\u001b[0m\u001b[0;34m(\u001b[0m\u001b[0mframedata\u001b[0m\u001b[0;34m,\u001b[0m \u001b[0;34m*\u001b[0m\u001b[0mself\u001b[0m\u001b[0;34m.\u001b[0m\u001b[0m_args\u001b[0m\u001b[0;34m)\u001b[0m\u001b[0;34m\u001b[0m\u001b[0;34m\u001b[0m\u001b[0m\n\u001b[0m\u001b[1;32m   1767\u001b[0m         \u001b[0;32mif\u001b[0m \u001b[0mself\u001b[0m\u001b[0;34m.\u001b[0m\u001b[0m_blit\u001b[0m\u001b[0;34m:\u001b[0m\u001b[0;34m\u001b[0m\u001b[0;34m\u001b[0m\u001b[0m\n\u001b[1;32m   1768\u001b[0m             \u001b[0;32mif\u001b[0m \u001b[0mself\u001b[0m\u001b[0;34m.\u001b[0m\u001b[0m_drawn_artists\u001b[0m \u001b[0;32mis\u001b[0m \u001b[0;32mNone\u001b[0m\u001b[0;34m:\u001b[0m\u001b[0;34m\u001b[0m\u001b[0;34m\u001b[0m\u001b[0m\n",
            "\u001b[0;32m<ipython-input-68-dd1bbecf5c64>\u001b[0m in \u001b[0;36mframe\u001b[0;34m(w)\u001b[0m\n\u001b[1;32m      4\u001b[0m     \u001b[0;32mglobal\u001b[0m \u001b[0mN\u001b[0m\u001b[0;34m,\u001b[0m\u001b[0mdf\u001b[0m\u001b[0;34m\u001b[0m\u001b[0;34m\u001b[0m\u001b[0m\n\u001b[1;32m      5\u001b[0m \u001b[0;34m\u001b[0m\u001b[0m\n\u001b[0;32m----> 6\u001b[0;31m     \u001b[0mdf\u001b[0m \u001b[0;34m=\u001b[0m \u001b[0mposition\u001b[0m\u001b[0;34m(\u001b[0m\u001b[0mN\u001b[0m\u001b[0;34m,\u001b[0m\u001b[0mdf\u001b[0m\u001b[0;34m)\u001b[0m\u001b[0;34m\u001b[0m\u001b[0;34m\u001b[0m\u001b[0m\n\u001b[0m\u001b[1;32m      7\u001b[0m \u001b[0;34m\u001b[0m\u001b[0m\n\u001b[1;32m      8\u001b[0m     \u001b[0mx\u001b[0m \u001b[0;34m=\u001b[0m \u001b[0mdf\u001b[0m\u001b[0;34m[\u001b[0m\u001b[0;34m'x_i+1'\u001b[0m\u001b[0;34m]\u001b[0m\u001b[0;34m\u001b[0m\u001b[0;34m\u001b[0m\u001b[0m\n",
            "\u001b[0;32m<ipython-input-69-a875540dc961>\u001b[0m in \u001b[0;36mposition\u001b[0;34m(N, df0)\u001b[0m\n\u001b[1;32m     22\u001b[0m           \u001b[0;32mpass\u001b[0m\u001b[0;34m\u001b[0m\u001b[0;34m\u001b[0m\u001b[0m\n\u001b[1;32m     23\u001b[0m         \u001b[0;32melse\u001b[0m\u001b[0;34m:\u001b[0m\u001b[0;34m\u001b[0m\u001b[0;34m\u001b[0m\u001b[0m\n\u001b[0;32m---> 24\u001b[0;31m           \u001b[0mFax\u001b[0m \u001b[0;34m=\u001b[0m \u001b[0mFax\u001b[0m \u001b[0;34m+\u001b[0m \u001b[0mGa\u001b[0m\u001b[0;34m*\u001b[0m\u001b[0mQ1\u001b[0m\u001b[0;34m*\u001b[0m\u001b[0mQ2\u001b[0m\u001b[0;34m/\u001b[0m\u001b[0mr\u001b[0m\u001b[0;34m^\u001b[0m\u001b[0;36m2\u001b[0m\u001b[0;34m\u001b[0m\u001b[0;34m\u001b[0m\u001b[0m\n\u001b[0m\u001b[1;32m     25\u001b[0m \u001b[0;34m\u001b[0m\u001b[0m\n\u001b[1;32m     26\u001b[0m \u001b[0;34m\u001b[0m\u001b[0m\n",
            "\u001b[0;31mTypeError\u001b[0m: ufunc 'bitwise_xor' not supported for the input types, and the inputs could not be safely coerced to any supported types according to the casting rule ''safe''"
          ]
        },
        {
          "output_type": "execute_result",
          "data": {
            "text/plain": [
              "<matplotlib.animation.FuncAnimation at 0x7fc829c3eaf0>"
            ]
          },
          "metadata": {},
          "execution_count": 73
        }
      ]
    }
  ]
}