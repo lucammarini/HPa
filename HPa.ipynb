{
  "nbformat": 4,
  "nbformat_minor": 0,
  "metadata": {
    "colab": {
      "provenance": [],
      "authorship_tag": "ABX9TyOYxILIKjsG5wk7TNnde+pk",
      "include_colab_link": true
    },
    "kernelspec": {
      "name": "python3",
      "display_name": "Python 3"
    },
    "language_info": {
      "name": "python"
    }
  },
  "cells": [
    {
      "cell_type": "markdown",
      "metadata": {
        "id": "view-in-github",
        "colab_type": "text"
      },
      "source": [
        "<a href=\"https://colab.research.google.com/github/lucammarini/HPa/blob/develop/HPa.ipynb\" target=\"_parent\"><img src=\"https://colab.research.google.com/assets/colab-badge.svg\" alt=\"Open In Colab\"/></a>"
      ]
    },
    {
      "cell_type": "markdown",
      "source": [
        "# HPa\n",
        "\n",
        "Descrição do script"
      ],
      "metadata": {
        "id": "3zliJ6K62FeK"
      }
    },
    {
      "cell_type": "markdown",
      "source": [
        "## IMPORTS"
      ],
      "metadata": {
        "id": "IrOc3TnX2IGh"
      }
    },
    {
      "cell_type": "code",
      "metadata": {
        "id": "w-TjjFVYOkOs"
      },
      "source": [
        "#### IMPORT DE BIBLIOTECAS\n",
        "from matplotlib import rc\n",
        "rc('animation', html='jshtml')"
      ],
      "execution_count": 46,
      "outputs": []
    },
    {
      "cell_type": "code",
      "metadata": {
        "id": "javW1ZBiNZMh"
      },
      "source": [
        "from math import *\n",
        "import numpy as np\n",
        "import matplotlib.pyplot as plt\n",
        "from mpl_toolkits import mplot3d\n",
        "import matplotlib.animation as animation"
      ],
      "execution_count": 47,
      "outputs": []
    },
    {
      "cell_type": "markdown",
      "source": [
        "## FUNÇÕES"
      ],
      "metadata": {
        "id": "p1BkmEnz2WKp"
      }
    },
    {
      "cell_type": "code",
      "source": [
        "def frame(w):\n",
        "    ax.clear()\n",
        "    global x,y\n",
        "    x=x+np.random.normal(loc=0.0,scale=50.0,size=10)\n",
        "    y=y+np.random.normal(loc=0.0,scale=50.0,size=10)\n",
        "\n",
        "    plt.title(\"Brownian Motion\")\n",
        "    ax.set_xlabel('X(t)')\n",
        "    ax.set_xlim(-500.0,500.0)\n",
        "    ax.set_ylabel('Y(t)')\n",
        "    ax.set_ylim(-500.0,500.0)\n",
        "   \n",
        "    plot=ax.scatter(x, y, c='r')\n",
        "    return plot"
      ],
      "metadata": {
        "id": "JatBVkPj2WaA"
      },
      "execution_count": 48,
      "outputs": []
    },
    {
      "cell_type": "markdown",
      "source": [
        "## LOOP PRINCIPAL"
      ],
      "metadata": {
        "id": "xEVNHK5m2Wrx"
      }
    },
    {
      "cell_type": "markdown",
      "source": [
        "### CONDIÇÕES DE CONTORNO INICIAIS"
      ],
      "metadata": {
        "id": "63wD1zaAAtYG"
      }
    },
    {
      "cell_type": "markdown",
      "source": [
        "* N: número de particulas\n",
        "* x: posição no eixo x\n",
        "* y: posição no eixo y"
      ],
      "metadata": {
        "id": "IhDf-er-BAse"
      }
    },
    {
      "cell_type": "code",
      "metadata": {
        "id": "-bHuJFcHNn_d"
      },
      "source": [
        "fig = plt.figure(figsize=(8,6))\n",
        "ax = plt.axes()\n",
        "\n",
        "N=100\n",
        "x=500*np.random.random(N)\n",
        "y=500*np.random.random(N)\n"
      ],
      "execution_count": null,
      "outputs": []
    },
    {
      "cell_type": "markdown",
      "source": [
        "### ANIMAÇÃO EM TRANSIENTE"
      ],
      "metadata": {
        "id": "zGtFEoCkAzF0"
      }
    },
    {
      "cell_type": "code",
      "metadata": {
        "id": "1Syf4XIKN1El"
      },
      "source": [
        "anim = animation.FuncAnimation(fig, frame, frames=100, blit=False, repeat=True)"
      ],
      "execution_count": 50,
      "outputs": []
    },
    {
      "cell_type": "code",
      "metadata": {
        "id": "rd6h4K9vOtZk"
      },
      "source": [
        "anim"
      ],
      "execution_count": null,
      "outputs": []
    },
    {
      "cell_type": "code",
      "source": [],
      "metadata": {
        "id": "t-0fRXsf7JHL"
      },
      "execution_count": 51,
      "outputs": []
    }
  ]
}