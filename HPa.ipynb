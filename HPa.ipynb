{
  "nbformat": 4,
  "nbformat_minor": 0,
  "metadata": {
    "colab": {
      "provenance": [],
      "authorship_tag": "ABX9TyPYVQ1a9eEAiMBw43RvZW96",
      "include_colab_link": true
    },
    "kernelspec": {
      "name": "python3",
      "display_name": "Python 3"
    },
    "language_info": {
      "name": "python"
    }
  },
  "cells": [
    {
      "cell_type": "markdown",
      "metadata": {
        "id": "view-in-github",
        "colab_type": "text"
      },
      "source": [
        "<a href=\"https://colab.research.google.com/github/lucammarini/HPa/blob/main/HPa.ipynb\" target=\"_parent\"><img src=\"https://colab.research.google.com/assets/colab-badge.svg\" alt=\"Open In Colab\"/></a>"
      ]
    },
    {
      "cell_type": "markdown",
      "source": [
        "# HPa\n",
        "\n",
        "Descrição do script"
      ],
      "metadata": {
        "id": "3zliJ6K62FeK"
      }
    },
    {
      "cell_type": "markdown",
      "source": [
        "## IMPORTS"
      ],
      "metadata": {
        "id": "IrOc3TnX2IGh"
      }
    },
    {
      "cell_type": "code",
      "execution_count": 1,
      "metadata": {
        "id": "916sQXi2166m"
      },
      "outputs": [],
      "source": [
        "#### IMPORT DE BIBLIOTECAS"
      ]
    },
    {
      "cell_type": "markdown",
      "source": [
        "## FUNÇÕES"
      ],
      "metadata": {
        "id": "p1BkmEnz2WKp"
      }
    },
    {
      "cell_type": "code",
      "source": [],
      "metadata": {
        "id": "JatBVkPj2WaA"
      },
      "execution_count": null,
      "outputs": []
    },
    {
      "cell_type": "markdown",
      "source": [
        "## LOOP PRINCIPAL"
      ],
      "metadata": {
        "id": "xEVNHK5m2Wrx"
      }
    },
    {
      "cell_type": "code",
      "source": [],
      "metadata": {
        "id": "HIpe5hMy2W7f"
      },
      "execution_count": null,
      "outputs": []
    }
  ]
}